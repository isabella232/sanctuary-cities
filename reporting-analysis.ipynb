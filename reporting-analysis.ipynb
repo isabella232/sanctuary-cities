{
 "cells": [
  {
   "cell_type": "code",
   "execution_count": 1,
   "metadata": {
    "collapsed": false
   },
   "outputs": [
    {
     "name": "stderr",
     "output_type": "stream",
     "text": [
      "/Users/davideads/VirtualEnvs/sanctuary-cities/lib/python2.7/site-packages/matplotlib/font_manager.py:273: UserWarning: Matplotlib is building the font cache using fc-list. This may take a moment.\n",
      "  warnings.warn('Matplotlib is building the font cache using fc-list. This may take a moment.')\n"
     ]
    }
   ],
   "source": [
    "%matplotlib inline\n",
    "import matplotlib.pyplot as plt\n",
    "import pandas as pd\n"
   ]
  },
  {
   "cell_type": "markdown",
   "metadata": {},
   "source": [
    "# Basic analysis of pre-processed sanctuary city data\n",
    "\n",
    "Currently, this notebook does not handle any processing. Run the appropriate shell scripts in the project directory, then run this notebook."
   ]
  },
  {
   "cell_type": "markdown",
   "metadata": {
    "collapsed": true
   },
   "source": [
    "## Detainers over time\n",
    "\n",
    "**Original question**: How have the number of detainers issued over time changed? Up, down through the years? \n",
    "\n",
    "**Answer**: It depends on whether you look at whether lifted or not. Either way, they're going down."
   ]
  },
  {
   "cell_type": "markdown",
   "metadata": {},
   "source": [
    "### All detainers by year (lifted or not)\n",
    "\n",
    "The total number of detainers issued, whether or not they have a lift_reason, peaked in 2011 with 314,966. The drop-off after 2011 has a steeper slop than the ramp-up to 2011."
   ]
  },
  {
   "cell_type": "code",
   "execution_count": 2,
   "metadata": {
    "collapsed": false
   },
   "outputs": [],
   "source": [
    "all_detainers_by_year = pd.read_csv('export/all_detainers_by_year.csv')"
   ]
  },
  {
   "cell_type": "markdown",
   "metadata": {},
   "source": [
    "#### Basic stats"
   ]
  },
  {
   "cell_type": "code",
   "execution_count": 3,
   "metadata": {
    "collapsed": false
   },
   "outputs": [
    {
     "data": {
      "text/plain": [
       "count         9.000000\n",
       "mean     201647.555556\n",
       "std      102459.190532\n",
       "min       39124.000000\n",
       "25%      147849.000000\n",
       "50%      228077.000000\n",
       "75%      272878.000000\n",
       "max      314966.000000\n",
       "Name: count, dtype: float64"
      ]
     },
     "execution_count": 3,
     "metadata": {},
     "output_type": "execute_result"
    }
   ],
   "source": [
    "all_detainers_by_year['count'].describe()"
   ]
  },
  {
   "cell_type": "markdown",
   "metadata": {},
   "source": [
    "#### Table"
   ]
  },
  {
   "cell_type": "code",
   "execution_count": 4,
   "metadata": {
    "collapsed": false,
    "scrolled": true
   },
   "outputs": [
    {
     "data": {
      "text/html": [
       "<div>\n",
       "<table border=\"1\" class=\"dataframe\">\n",
       "  <thead>\n",
       "    <tr style=\"text-align: right;\">\n",
       "      <th></th>\n",
       "      <th>year</th>\n",
       "      <th>count</th>\n",
       "    </tr>\n",
       "  </thead>\n",
       "  <tbody>\n",
       "    <tr>\n",
       "      <th>0</th>\n",
       "      <td>2007</td>\n",
       "      <td>39124</td>\n",
       "    </tr>\n",
       "    <tr>\n",
       "      <th>1</th>\n",
       "      <td>2008</td>\n",
       "      <td>228077</td>\n",
       "    </tr>\n",
       "    <tr>\n",
       "      <th>2</th>\n",
       "      <td>2009</td>\n",
       "      <td>256947</td>\n",
       "    </tr>\n",
       "    <tr>\n",
       "      <th>3</th>\n",
       "      <td>2010</td>\n",
       "      <td>301119</td>\n",
       "    </tr>\n",
       "    <tr>\n",
       "      <th>4</th>\n",
       "      <td>2011</td>\n",
       "      <td>314966</td>\n",
       "    </tr>\n",
       "    <tr>\n",
       "      <th>5</th>\n",
       "      <td>2012</td>\n",
       "      <td>272878</td>\n",
       "    </tr>\n",
       "    <tr>\n",
       "      <th>6</th>\n",
       "      <td>2013</td>\n",
       "      <td>204215</td>\n",
       "    </tr>\n",
       "    <tr>\n",
       "      <th>7</th>\n",
       "      <td>2014</td>\n",
       "      <td>147849</td>\n",
       "    </tr>\n",
       "    <tr>\n",
       "      <th>8</th>\n",
       "      <td>2015</td>\n",
       "      <td>49653</td>\n",
       "    </tr>\n",
       "  </tbody>\n",
       "</table>\n",
       "</div>"
      ],
      "text/plain": [
       "   year   count\n",
       "0  2007   39124\n",
       "1  2008  228077\n",
       "2  2009  256947\n",
       "3  2010  301119\n",
       "4  2011  314966\n",
       "5  2012  272878\n",
       "6  2013  204215\n",
       "7  2014  147849\n",
       "8  2015   49653"
      ]
     },
     "execution_count": 4,
     "metadata": {},
     "output_type": "execute_result"
    }
   ],
   "source": [
    "all_detainers_by_year"
   ]
  },
  {
   "cell_type": "markdown",
   "metadata": {},
   "source": [
    "#### Plot"
   ]
  },
  {
   "cell_type": "code",
   "execution_count": 5,
   "metadata": {
    "collapsed": false,
    "scrolled": true
   },
   "outputs": [
    {
     "data": {
      "text/plain": [
       "<matplotlib.axes._subplots.AxesSubplot at 0x104ea7490>"
      ]
     },
     "execution_count": 5,
     "metadata": {},
     "output_type": "execute_result"
    },
    {
     "data": {
      "image/png": "[encoded data removed]",
      "text/plain": [
       "<matplotlib.figure.Figure at 0x104ea7510>"
      ]
     },
     "metadata": {},
     "output_type": "display_data"
    }
   ],
   "source": [
    "all_detainers_by_year.plot(kind=\"bar\", x=\"year\", y=\"count\")"
   ]
  },
  {
   "cell_type": "markdown",
   "metadata": {},
   "source": [
    "### All detainers by year (only those lifted)\n",
    "\n",
    "The picture is somewhat different when looking at only those detainers that have a lift reason. When we look at the data this way, 2008 is the highest year and the trend in downward from there. It's not clear what to make of this. The previous analysis (all detainers, lift reason or not) is probably best for understanding what ICE was doing. This way of looking at the numbers _might_ be more valuable for understanding what LEAs were doing. "
   ]
  },
  {
   "cell_type": "code",
   "execution_count": 6,
   "metadata": {
    "collapsed": true
   },
   "outputs": [],
   "source": [
    "lifted_detainers_by_year = pd.read_csv('export/lifted_detainers_by_year.csv')"
   ]
  },
  {
   "cell_type": "markdown",
   "metadata": {},
   "source": [
    "#### Basic stats"
   ]
  },
  {
   "cell_type": "code",
   "execution_count": 7,
   "metadata": {
    "collapsed": false
   },
   "outputs": [
    {
     "data": {
      "text/plain": [
       "count         9.000000\n",
       "mean     109656.111111\n",
       "std       56610.356176\n",
       "min       16526.000000\n",
       "25%       75480.000000\n",
       "50%      138026.000000\n",
       "75%      153808.000000\n",
       "max      161443.000000\n",
       "Name: count, dtype: float64"
      ]
     },
     "execution_count": 7,
     "metadata": {},
     "output_type": "execute_result"
    }
   ],
   "source": [
    "lifted_detainers_by_year['count'].describe()"
   ]
  },
  {
   "cell_type": "markdown",
   "metadata": {},
   "source": [
    "#### Table"
   ]
  },
  {
   "cell_type": "code",
   "execution_count": 8,
   "metadata": {
    "collapsed": false
   },
   "outputs": [
    {
     "data": {
      "text/html": [
       "<div>\n",
       "<table border=\"1\" class=\"dataframe\">\n",
       "  <thead>\n",
       "    <tr style=\"text-align: right;\">\n",
       "      <th></th>\n",
       "      <th>year</th>\n",
       "      <th>count</th>\n",
       "    </tr>\n",
       "  </thead>\n",
       "  <tbody>\n",
       "    <tr>\n",
       "      <th>0</th>\n",
       "      <td>2007</td>\n",
       "      <td>30516</td>\n",
       "    </tr>\n",
       "    <tr>\n",
       "      <th>1</th>\n",
       "      <td>2008</td>\n",
       "      <td>161443</td>\n",
       "    </tr>\n",
       "    <tr>\n",
       "      <th>2</th>\n",
       "      <td>2009</td>\n",
       "      <td>152195</td>\n",
       "    </tr>\n",
       "    <tr>\n",
       "      <th>3</th>\n",
       "      <td>2010</td>\n",
       "      <td>153808</td>\n",
       "    </tr>\n",
       "    <tr>\n",
       "      <th>4</th>\n",
       "      <td>2011</td>\n",
       "      <td>156876</td>\n",
       "    </tr>\n",
       "    <tr>\n",
       "      <th>5</th>\n",
       "      <td>2012</td>\n",
       "      <td>138026</td>\n",
       "    </tr>\n",
       "    <tr>\n",
       "      <th>6</th>\n",
       "      <td>2013</td>\n",
       "      <td>102035</td>\n",
       "    </tr>\n",
       "    <tr>\n",
       "      <th>7</th>\n",
       "      <td>2014</td>\n",
       "      <td>75480</td>\n",
       "    </tr>\n",
       "    <tr>\n",
       "      <th>8</th>\n",
       "      <td>2015</td>\n",
       "      <td>16526</td>\n",
       "    </tr>\n",
       "  </tbody>\n",
       "</table>\n",
       "</div>"
      ],
      "text/plain": [
       "   year   count\n",
       "0  2007   30516\n",
       "1  2008  161443\n",
       "2  2009  152195\n",
       "3  2010  153808\n",
       "4  2011  156876\n",
       "5  2012  138026\n",
       "6  2013  102035\n",
       "7  2014   75480\n",
       "8  2015   16526"
      ]
     },
     "execution_count": 8,
     "metadata": {},
     "output_type": "execute_result"
    }
   ],
   "source": [
    "lifted_detainers_by_year"
   ]
  },
  {
   "cell_type": "markdown",
   "metadata": {},
   "source": [
    "#### Plot"
   ]
  },
  {
   "cell_type": "code",
   "execution_count": 9,
   "metadata": {
    "collapsed": false
   },
   "outputs": [
    {
     "data": {
      "text/plain": [
       "<matplotlib.axes._subplots.AxesSubplot at 0x104f09fd0>"
      ]
     },
     "execution_count": 9,
     "metadata": {},
     "output_type": "execute_result"
    },
    {
     "data": {
      "image/png": "[encoded data removed]",
      "text/plain": [
       "<matplotlib.figure.Figure at 0x104fb7390>"
      ]
     },
     "metadata": {},
     "output_type": "display_data"
    }
   ],
   "source": [
    "lifted_detainers_by_year.plot(kind=\"bar\", x=\"year\", y=\"count\")"
   ]
  },
  {
   "cell_type": "markdown",
   "metadata": {},
   "source": [
    "## Detainer types\n",
    "\n",
    "**Original question:** How have the number of I247, I247N and I247D changed over time? Has the administration stopped issuing I247 forms? \n",
    "\n",
    "**Answer:** It's complicated and pretty hard to say. \n",
    "\n",
    "Unfortunately, the data only has detainer types for 2014 and 2015.\n",
    "\n",
    "One thing is certain: The I247 (as of March 2013) detainer type dominates in the years we have available, which is perhaps not a surprise.\n",
    "\n",
    "More interesting: Even though 2015 data is incomplete, the number of I247s is higher. "
   ]
  },
  {
   "cell_type": "code",
   "execution_count": 10,
   "metadata": {
    "collapsed": false
   },
   "outputs": [
    {
     "data": {
      "text/html": [
       "<div>\n",
       "<table border=\"1\" class=\"dataframe\">\n",
       "  <thead>\n",
       "    <tr>\n",
       "      <th></th>\n",
       "      <th colspan=\"4\" halign=\"left\">count</th>\n",
       "    </tr>\n",
       "    <tr>\n",
       "      <th>detainer_type</th>\n",
       "      <th>I247 - Immigration Detainer - Notice of Action (as of March 2013)</th>\n",
       "      <th>I247 - Immigration Detainer - Notice of Action (prior to March 2013)</th>\n",
       "      <th>I247D - Immigration Detainer - Request for Action</th>\n",
       "      <th>I247N - Immigration Advisal - Request for Notification</th>\n",
       "    </tr>\n",
       "    <tr>\n",
       "      <th>year</th>\n",
       "      <th></th>\n",
       "      <th></th>\n",
       "      <th></th>\n",
       "      <th></th>\n",
       "    </tr>\n",
       "  </thead>\n",
       "  <tbody>\n",
       "    <tr>\n",
       "      <th>2014</th>\n",
       "      <td>29310</td>\n",
       "      <td>80</td>\n",
       "      <td>6</td>\n",
       "      <td>4</td>\n",
       "    </tr>\n",
       "    <tr>\n",
       "      <th>2015</th>\n",
       "      <td>46187</td>\n",
       "      <td>119</td>\n",
       "      <td>2805</td>\n",
       "      <td>542</td>\n",
       "    </tr>\n",
       "  </tbody>\n",
       "</table>\n",
       "</div>"
      ],
      "text/plain": [
       "                                                                          count  \\\n",
       "detainer_type I247 - Immigration Detainer - Notice of Action (as of March 2013)   \n",
       "year                                                                              \n",
       "2014                                                       29310                  \n",
       "2015                                                       46187                  \n",
       "\n",
       "                                                                                    \\\n",
       "detainer_type I247 - Immigration Detainer - Notice of Action (prior to March 2013)   \n",
       "year                                                                                 \n",
       "2014                                                          80                     \n",
       "2015                                                         119                     \n",
       "\n",
       "                                                                 \\\n",
       "detainer_type I247D - Immigration Detainer - Request for Action   \n",
       "year                                                              \n",
       "2014                                                          6   \n",
       "2015                                                       2805   \n",
       "\n",
       "                                                                      \n",
       "detainer_type I247N - Immigration Advisal - Request for Notification  \n",
       "year                                                                  \n",
       "2014                                                           4      \n",
       "2015                                                         542      "
      ]
     },
     "execution_count": 10,
     "metadata": {},
     "output_type": "execute_result"
    }
   ],
   "source": [
    "detainers_by_type_and_year = pd.read_csv('export/detainers_by_type_and_year.csv')\n",
    "detainers_by_type_and_year_pivot = detainers_by_type_and_year.pivot(index=\"year\", columns=\"detainer_type\")\n",
    "detainers_by_type_and_year_pivot"
   ]
  },
  {
   "cell_type": "markdown",
   "metadata": {},
   "source": [
    "## %s of total by year"
   ]
  },
  {
   "cell_type": "code",
   "execution_count": 11,
   "metadata": {
    "collapsed": false
   },
   "outputs": [
    {
     "data": {
      "text/html": [
       "<div>\n",
       "<table border=\"1\" class=\"dataframe\">\n",
       "  <thead>\n",
       "    <tr>\n",
       "      <th></th>\n",
       "      <th colspan=\"12\" halign=\"left\">count</th>\n",
       "    </tr>\n",
       "    <tr>\n",
       "      <th>lift_reason</th>\n",
       "      <th>Alien Not Subject to Deportation</th>\n",
       "      <th>Booked into Detention</th>\n",
       "      <th>Case Closed</th>\n",
       "      <th>Detainer Declined by LEA</th>\n",
       "      <th>Died</th>\n",
       "      <th>Early Release</th>\n",
       "      <th>Lifted</th>\n",
       "      <th>Lifted - Lack of Funds</th>\n",
       "      <th>Lifted - Lack of Space</th>\n",
       "      <th>Prosecutorial Discretion</th>\n",
       "      <th>Transferred</th>\n",
       "      <th>United States Citizen Interviewed</th>\n",
       "    </tr>\n",
       "    <tr>\n",
       "      <th>year</th>\n",
       "      <th></th>\n",
       "      <th></th>\n",
       "      <th></th>\n",
       "      <th></th>\n",
       "      <th></th>\n",
       "      <th></th>\n",
       "      <th></th>\n",
       "      <th></th>\n",
       "      <th></th>\n",
       "      <th></th>\n",
       "      <th></th>\n",
       "      <th></th>\n",
       "    </tr>\n",
       "  </thead>\n",
       "  <tbody>\n",
       "    <tr>\n",
       "      <th>2007</th>\n",
       "      <td>42</td>\n",
       "      <td>11295</td>\n",
       "      <td>13655</td>\n",
       "      <td>11</td>\n",
       "      <td>28</td>\n",
       "      <td>629</td>\n",
       "      <td>4067</td>\n",
       "      <td>8</td>\n",
       "      <td>4</td>\n",
       "      <td>2</td>\n",
       "      <td>760</td>\n",
       "      <td>15</td>\n",
       "    </tr>\n",
       "    <tr>\n",
       "      <th>2008</th>\n",
       "      <td>229</td>\n",
       "      <td>74190</td>\n",
       "      <td>48618</td>\n",
       "      <td>64</td>\n",
       "      <td>100</td>\n",
       "      <td>2301</td>\n",
       "      <td>30809</td>\n",
       "      <td>66</td>\n",
       "      <td>46</td>\n",
       "      <td>10</td>\n",
       "      <td>4934</td>\n",
       "      <td>76</td>\n",
       "    </tr>\n",
       "    <tr>\n",
       "      <th>2009</th>\n",
       "      <td>234</td>\n",
       "      <td>93037</td>\n",
       "      <td>15582</td>\n",
       "      <td>66</td>\n",
       "      <td>78</td>\n",
       "      <td>2308</td>\n",
       "      <td>36755</td>\n",
       "      <td>158</td>\n",
       "      <td>85</td>\n",
       "      <td>16</td>\n",
       "      <td>3800</td>\n",
       "      <td>76</td>\n",
       "    </tr>\n",
       "    <tr>\n",
       "      <th>2010</th>\n",
       "      <td>227</td>\n",
       "      <td>104341</td>\n",
       "      <td>10042</td>\n",
       "      <td>121</td>\n",
       "      <td>66</td>\n",
       "      <td>2638</td>\n",
       "      <td>32509</td>\n",
       "      <td>235</td>\n",
       "      <td>43</td>\n",
       "      <td>28</td>\n",
       "      <td>3457</td>\n",
       "      <td>101</td>\n",
       "    </tr>\n",
       "    <tr>\n",
       "      <th>2011</th>\n",
       "      <td>234</td>\n",
       "      <td>123107</td>\n",
       "      <td>7139</td>\n",
       "      <td>279</td>\n",
       "      <td>61</td>\n",
       "      <td>1790</td>\n",
       "      <td>21655</td>\n",
       "      <td>39</td>\n",
       "      <td>40</td>\n",
       "      <td>55</td>\n",
       "      <td>2374</td>\n",
       "      <td>103</td>\n",
       "    </tr>\n",
       "    <tr>\n",
       "      <th>2012</th>\n",
       "      <td>275</td>\n",
       "      <td>112049</td>\n",
       "      <td>5247</td>\n",
       "      <td>942</td>\n",
       "      <td>33</td>\n",
       "      <td>546</td>\n",
       "      <td>17193</td>\n",
       "      <td>41</td>\n",
       "      <td>58</td>\n",
       "      <td>441</td>\n",
       "      <td>1051</td>\n",
       "      <td>150</td>\n",
       "    </tr>\n",
       "    <tr>\n",
       "      <th>2013</th>\n",
       "      <td>216</td>\n",
       "      <td>80828</td>\n",
       "      <td>2988</td>\n",
       "      <td>2378</td>\n",
       "      <td>18</td>\n",
       "      <td>280</td>\n",
       "      <td>13843</td>\n",
       "      <td>87</td>\n",
       "      <td>57</td>\n",
       "      <td>457</td>\n",
       "      <td>825</td>\n",
       "      <td>58</td>\n",
       "    </tr>\n",
       "    <tr>\n",
       "      <th>2014</th>\n",
       "      <td>251</td>\n",
       "      <td>50072</td>\n",
       "      <td>1610</td>\n",
       "      <td>13595</td>\n",
       "      <td>14</td>\n",
       "      <td>178</td>\n",
       "      <td>8404</td>\n",
       "      <td>25</td>\n",
       "      <td>29</td>\n",
       "      <td>640</td>\n",
       "      <td>586</td>\n",
       "      <td>76</td>\n",
       "    </tr>\n",
       "    <tr>\n",
       "      <th>2015</th>\n",
       "      <td>138</td>\n",
       "      <td>10122</td>\n",
       "      <td>266</td>\n",
       "      <td>2785</td>\n",
       "      <td>3</td>\n",
       "      <td>41</td>\n",
       "      <td>2639</td>\n",
       "      <td>7</td>\n",
       "      <td>4</td>\n",
       "      <td>282</td>\n",
       "      <td>201</td>\n",
       "      <td>38</td>\n",
       "    </tr>\n",
       "  </tbody>\n",
       "</table>\n",
       "</div>"
      ],
      "text/plain": [
       "                                       count                        \\\n",
       "lift_reason Alien Not Subject to Deportation Booked into Detention   \n",
       "year                                                                 \n",
       "2007                                      42                 11295   \n",
       "2008                                     229                 74190   \n",
       "2009                                     234                 93037   \n",
       "2010                                     227                104341   \n",
       "2011                                     234                123107   \n",
       "2012                                     275                112049   \n",
       "2013                                     216                 80828   \n",
       "2014                                     251                 50072   \n",
       "2015                                     138                 10122   \n",
       "\n",
       "                                                                            \\\n",
       "lift_reason Case Closed Detainer Declined by LEA Died Early Release Lifted   \n",
       "year                                                                         \n",
       "2007              13655                       11   28           629   4067   \n",
       "2008              48618                       64  100          2301  30809   \n",
       "2009              15582                       66   78          2308  36755   \n",
       "2010              10042                      121   66          2638  32509   \n",
       "2011               7139                      279   61          1790  21655   \n",
       "2012               5247                      942   33           546  17193   \n",
       "2013               2988                     2378   18           280  13843   \n",
       "2014               1610                    13595   14           178   8404   \n",
       "2015                266                     2785    3            41   2639   \n",
       "\n",
       "                                                           \\\n",
       "lift_reason Lifted - Lack of Funds Lifted - Lack of Space   \n",
       "year                                                        \n",
       "2007                             8                      4   \n",
       "2008                            66                     46   \n",
       "2009                           158                     85   \n",
       "2010                           235                     43   \n",
       "2011                            39                     40   \n",
       "2012                            41                     58   \n",
       "2013                            87                     57   \n",
       "2014                            25                     29   \n",
       "2015                             7                      4   \n",
       "\n",
       "                                                  \\\n",
       "lift_reason Prosecutorial Discretion Transferred   \n",
       "year                                               \n",
       "2007                               2         760   \n",
       "2008                              10        4934   \n",
       "2009                              16        3800   \n",
       "2010                              28        3457   \n",
       "2011                              55        2374   \n",
       "2012                             441        1051   \n",
       "2013                             457         825   \n",
       "2014                             640         586   \n",
       "2015                             282         201   \n",
       "\n",
       "                                               \n",
       "lift_reason United States Citizen Interviewed  \n",
       "year                                           \n",
       "2007                                       15  \n",
       "2008                                       76  \n",
       "2009                                       76  \n",
       "2010                                      101  \n",
       "2011                                      103  \n",
       "2012                                      150  \n",
       "2013                                       58  \n",
       "2014                                       76  \n",
       "2015                                       38  "
      ]
     },
     "execution_count": 11,
     "metadata": {},
     "output_type": "execute_result"
    }
   ],
   "source": [
    "detainers_by_life_reason_and_year = pd.read_csv('export/detainers_by_lift_reason_and_year.csv')\n",
    "detainers_by_life_reason_and_year_pivot = detainers_by_life_reason_and_year.pivot(index=\"year\", columns=\"lift_reason\")\n",
    "detainers_by_life_reason_and_year_pivot"
   ]
  },
  {
   "cell_type": "code",
   "execution_count": 50,
   "metadata": {
    "collapsed": false
   },
   "outputs": [
    {
     "data": {
      "text/html": [
       "<div>\n",
       "<table border=\"1\" class=\"dataframe\">\n",
       "  <thead>\n",
       "    <tr>\n",
       "      <th></th>\n",
       "      <th colspan=\"12\" halign=\"left\">count</th>\n",
       "    </tr>\n",
       "    <tr>\n",
       "      <th>lift_reason</th>\n",
       "      <th>Alien Not Subject to Deportation</th>\n",
       "      <th>Booked into Detention</th>\n",
       "      <th>Case Closed</th>\n",
       "      <th>Detainer Declined by LEA</th>\n",
       "      <th>Died</th>\n",
       "      <th>Early Release</th>\n",
       "      <th>Lifted</th>\n",
       "      <th>Lifted - Lack of Funds</th>\n",
       "      <th>Lifted - Lack of Space</th>\n",
       "      <th>Prosecutorial Discretion</th>\n",
       "      <th>Transferred</th>\n",
       "      <th>United States Citizen Interviewed</th>\n",
       "    </tr>\n",
       "    <tr>\n",
       "      <th>year</th>\n",
       "      <th></th>\n",
       "      <th></th>\n",
       "      <th></th>\n",
       "      <th></th>\n",
       "      <th></th>\n",
       "      <th></th>\n",
       "      <th></th>\n",
       "      <th></th>\n",
       "      <th></th>\n",
       "      <th></th>\n",
       "      <th></th>\n",
       "      <th></th>\n",
       "    </tr>\n",
       "  </thead>\n",
       "  <tbody>\n",
       "    <tr>\n",
       "      <th>2007</th>\n",
       "      <td>0.137633</td>\n",
       "      <td>37.013370</td>\n",
       "      <td>44.747018</td>\n",
       "      <td>0.036047</td>\n",
       "      <td>0.091755</td>\n",
       "      <td>2.061214</td>\n",
       "      <td>13.327435</td>\n",
       "      <td>0.026216</td>\n",
       "      <td>0.013108</td>\n",
       "      <td>0.006554</td>\n",
       "      <td>2.490497</td>\n",
       "      <td>0.049155</td>\n",
       "    </tr>\n",
       "    <tr>\n",
       "      <th>2008</th>\n",
       "      <td>0.141846</td>\n",
       "      <td>45.954300</td>\n",
       "      <td>30.114653</td>\n",
       "      <td>0.039642</td>\n",
       "      <td>0.061941</td>\n",
       "      <td>1.425271</td>\n",
       "      <td>19.083516</td>\n",
       "      <td>0.040881</td>\n",
       "      <td>0.028493</td>\n",
       "      <td>0.006194</td>\n",
       "      <td>3.056187</td>\n",
       "      <td>0.047075</td>\n",
       "    </tr>\n",
       "    <tr>\n",
       "      <th>2009</th>\n",
       "      <td>0.153750</td>\n",
       "      <td>61.130129</td>\n",
       "      <td>10.238181</td>\n",
       "      <td>0.043365</td>\n",
       "      <td>0.051250</td>\n",
       "      <td>1.516476</td>\n",
       "      <td>24.149939</td>\n",
       "      <td>0.103814</td>\n",
       "      <td>0.055849</td>\n",
       "      <td>0.010513</td>\n",
       "      <td>2.496797</td>\n",
       "      <td>0.049936</td>\n",
       "    </tr>\n",
       "    <tr>\n",
       "      <th>2010</th>\n",
       "      <td>0.147587</td>\n",
       "      <td>67.838474</td>\n",
       "      <td>6.528919</td>\n",
       "      <td>0.078670</td>\n",
       "      <td>0.042911</td>\n",
       "      <td>1.715125</td>\n",
       "      <td>21.136092</td>\n",
       "      <td>0.152788</td>\n",
       "      <td>0.027957</td>\n",
       "      <td>0.018205</td>\n",
       "      <td>2.247607</td>\n",
       "      <td>0.065666</td>\n",
       "    </tr>\n",
       "    <tr>\n",
       "      <th>2011</th>\n",
       "      <td>0.149162</td>\n",
       "      <td>78.474081</td>\n",
       "      <td>4.550728</td>\n",
       "      <td>0.177847</td>\n",
       "      <td>0.038884</td>\n",
       "      <td>1.141029</td>\n",
       "      <td>13.803896</td>\n",
       "      <td>0.024860</td>\n",
       "      <td>0.025498</td>\n",
       "      <td>0.035060</td>\n",
       "      <td>1.513297</td>\n",
       "      <td>0.065657</td>\n",
       "    </tr>\n",
       "    <tr>\n",
       "      <th>2012</th>\n",
       "      <td>0.199238</td>\n",
       "      <td>81.179633</td>\n",
       "      <td>3.801458</td>\n",
       "      <td>0.682480</td>\n",
       "      <td>0.023909</td>\n",
       "      <td>0.395578</td>\n",
       "      <td>12.456349</td>\n",
       "      <td>0.029705</td>\n",
       "      <td>0.042021</td>\n",
       "      <td>0.319505</td>\n",
       "      <td>0.761451</td>\n",
       "      <td>0.108675</td>\n",
       "    </tr>\n",
       "    <tr>\n",
       "      <th>2013</th>\n",
       "      <td>0.211692</td>\n",
       "      <td>79.215955</td>\n",
       "      <td>2.928407</td>\n",
       "      <td>2.330573</td>\n",
       "      <td>0.017641</td>\n",
       "      <td>0.274416</td>\n",
       "      <td>13.566913</td>\n",
       "      <td>0.085265</td>\n",
       "      <td>0.055863</td>\n",
       "      <td>0.447886</td>\n",
       "      <td>0.808546</td>\n",
       "      <td>0.056843</td>\n",
       "    </tr>\n",
       "    <tr>\n",
       "      <th>2014</th>\n",
       "      <td>0.332538</td>\n",
       "      <td>66.338103</td>\n",
       "      <td>2.133015</td>\n",
       "      <td>18.011394</td>\n",
       "      <td>0.018548</td>\n",
       "      <td>0.235824</td>\n",
       "      <td>11.134075</td>\n",
       "      <td>0.033121</td>\n",
       "      <td>0.038421</td>\n",
       "      <td>0.847907</td>\n",
       "      <td>0.776365</td>\n",
       "      <td>0.100689</td>\n",
       "    </tr>\n",
       "    <tr>\n",
       "      <th>2015</th>\n",
       "      <td>0.835048</td>\n",
       "      <td>61.248941</td>\n",
       "      <td>1.609585</td>\n",
       "      <td>16.852233</td>\n",
       "      <td>0.018153</td>\n",
       "      <td>0.248094</td>\n",
       "      <td>15.968776</td>\n",
       "      <td>0.042357</td>\n",
       "      <td>0.024204</td>\n",
       "      <td>1.706402</td>\n",
       "      <td>1.216265</td>\n",
       "      <td>0.229941</td>\n",
       "    </tr>\n",
       "  </tbody>\n",
       "</table>\n",
       "</div>"
      ],
      "text/plain": [
       "                                       count                        \\\n",
       "lift_reason Alien Not Subject to Deportation Booked into Detention   \n",
       "year                                                                 \n",
       "2007                                0.137633             37.013370   \n",
       "2008                                0.141846             45.954300   \n",
       "2009                                0.153750             61.130129   \n",
       "2010                                0.147587             67.838474   \n",
       "2011                                0.149162             78.474081   \n",
       "2012                                0.199238             81.179633   \n",
       "2013                                0.211692             79.215955   \n",
       "2014                                0.332538             66.338103   \n",
       "2015                                0.835048             61.248941   \n",
       "\n",
       "                                                                          \\\n",
       "lift_reason Case Closed Detainer Declined by LEA      Died Early Release   \n",
       "year                                                                       \n",
       "2007          44.747018                 0.036047  0.091755      2.061214   \n",
       "2008          30.114653                 0.039642  0.061941      1.425271   \n",
       "2009          10.238181                 0.043365  0.051250      1.516476   \n",
       "2010           6.528919                 0.078670  0.042911      1.715125   \n",
       "2011           4.550728                 0.177847  0.038884      1.141029   \n",
       "2012           3.801458                 0.682480  0.023909      0.395578   \n",
       "2013           2.928407                 2.330573  0.017641      0.274416   \n",
       "2014           2.133015                18.011394  0.018548      0.235824   \n",
       "2015           1.609585                16.852233  0.018153      0.248094   \n",
       "\n",
       "                                                                      \\\n",
       "lift_reason     Lifted Lifted - Lack of Funds Lifted - Lack of Space   \n",
       "year                                                                   \n",
       "2007         13.327435               0.026216               0.013108   \n",
       "2008         19.083516               0.040881               0.028493   \n",
       "2009         24.149939               0.103814               0.055849   \n",
       "2010         21.136092               0.152788               0.027957   \n",
       "2011         13.803896               0.024860               0.025498   \n",
       "2012         12.456349               0.029705               0.042021   \n",
       "2013         13.566913               0.085265               0.055863   \n",
       "2014         11.134075               0.033121               0.038421   \n",
       "2015         15.968776               0.042357               0.024204   \n",
       "\n",
       "                                                  \\\n",
       "lift_reason Prosecutorial Discretion Transferred   \n",
       "year                                               \n",
       "2007                        0.006554    2.490497   \n",
       "2008                        0.006194    3.056187   \n",
       "2009                        0.010513    2.496797   \n",
       "2010                        0.018205    2.247607   \n",
       "2011                        0.035060    1.513297   \n",
       "2012                        0.319505    0.761451   \n",
       "2013                        0.447886    0.808546   \n",
       "2014                        0.847907    0.776365   \n",
       "2015                        1.706402    1.216265   \n",
       "\n",
       "                                               \n",
       "lift_reason United States Citizen Interviewed  \n",
       "year                                           \n",
       "2007                                 0.049155  \n",
       "2008                                 0.047075  \n",
       "2009                                 0.049936  \n",
       "2010                                 0.065666  \n",
       "2011                                 0.065657  \n",
       "2012                                 0.108675  \n",
       "2013                                 0.056843  \n",
       "2014                                 0.100689  \n",
       "2015                                 0.229941  "
      ]
     },
     "execution_count": 50,
     "metadata": {},
     "output_type": "execute_result"
    }
   ],
   "source": [
    "detainers_by_life_reason_and_year_pivot = detainers_by_life_reason_and_year.pivot_table(index=\"year\", columns=\"lift_reason\")\n",
    "detainers_by_life_reason_and_year_pivot_pct = detainers_by_life_reason_and_year_pivot.apply(lambda x : 100 * (x / x.sum()), axis=1)\n",
    "detainers_by_life_reason_and_year_pivot_pct"
   ]
  },
  {
   "cell_type": "code",
   "execution_count": 58,
   "metadata": {
    "collapsed": false
   },
   "outputs": [
    {
     "data": {
      "text/plain": [
       "<matplotlib.axes._subplots.AxesSubplot at 0x1093ad910>"
      ]
     },
     "execution_count": 58,
     "metadata": {},
     "output_type": "execute_result"
    },
    {
     "data": {
      "image/png": "[encoded data removed]",
      "text/plain": [
       "<matplotlib.figure.Figure at 0x1095ed410>"
      ]
     },
     "metadata": {},
     "output_type": "display_data"
    }
   ],
   "source": [
    "detainers_by_life_reason_and_year_pivot_pct.plot(legend=False)"
   ]
  }
 ],
 "metadata": {
  "kernelspec": {
   "display_name": "Python 2",
   "language": "python",
   "name": "python2"
  },
  "language_info": {
   "codemirror_mode": {
    "name": "ipython",
    "version": 2
   },
   "file_extension": ".py",
   "mimetype": "text/x-python",
   "name": "python",
   "nbconvert_exporter": "python",
   "pygments_lexer": "ipython2",
   "version": "2.7.12"
  }
 },
 "nbformat": 4,
 "nbformat_minor": 2
}
